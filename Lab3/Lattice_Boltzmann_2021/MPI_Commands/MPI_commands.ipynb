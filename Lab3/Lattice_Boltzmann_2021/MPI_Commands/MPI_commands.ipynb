{
 "cells": [
  {
   "cell_type": "markdown",
   "metadata": {
    "colab_type": "text",
    "id": "XNAjOxCLQZw0"
   },
   "source": [
    "# <strong> Hello World! </strong> \n"
   ]
  },
  {
   "cell_type": "code",
   "execution_count": 1,
   "metadata": {
    "colab": {
     "base_uri": "https://localhost:8080/",
     "height": 125
    },
    "colab_type": "code",
    "id": "vOE5CX6DRLGM",
    "outputId": "216054f2-2bb8-4629-b543-a5a21ffbf8a6"
   },
   "outputs": [
    {
     "name": "stdout",
     "output_type": "stream",
     "text": [
      "\n",
      "from mpi4py import MPI\n",
      "\n",
      "comm = MPI.COMM_WORLD\n",
      "rank = comm.Get_rank()\n",
      "\n",
      "print(\"Hello world from rank %r!\" % rank)\n",
      "\n"
     ]
    }
   ],
   "source": [
    "# Open and display the script:\n",
    "f = open(\"Hello_world.py\", \"r\")\n",
    "print(f.read())\n",
    "f.close()"
   ]
  },
  {
   "cell_type": "code",
   "execution_count": 20,
   "metadata": {
    "colab": {
     "base_uri": "https://localhost:8080/",
     "height": 197
    },
    "colab_type": "code",
    "id": "IHPYDKGRRXR2",
    "outputId": "c81930b7-1ed0-488c-dbda-414da7c5618e",
    "scrolled": true
   },
   "outputs": [
    {
     "name": "stdout",
     "output_type": "stream",
     "text": [
      "Invalid MIT-MAGIC-COOKIE-1 key--------------------------------------------------------------------------\n",
      "mpiexec was unable to find the specified executable file, and therefore\n",
      "did not launch the job.  This error was first reported for process\n",
      "rank 0; it may have occurred for other processes as well.\n",
      "\n",
      "NOTE: A common cause for this error is misspelling a mpiexec command\n",
      "      line parameter option (remember that mpiexec interprets the first\n",
      "      unrecognized command line token as the executable).\n",
      "\n",
      "Node:       ildar-machine\n",
      "Executable: python\n",
      "--------------------------------------------------------------------------\n",
      "2 total processes failed to start\n"
     ]
    }
   ],
   "source": [
    "# Parallel run the script in terminal\n",
    "\n",
    "# ! -- running the command in terminal\n",
    "# mpirun -- command for running scripts with MPI\n",
    "# -n <Number> -- specify the number of processes\n",
    "\n",
    "!mpiexec -n 2 python Hello_world.py"
   ]
  },
  {
   "cell_type": "code",
   "execution_count": 3,
   "metadata": {
    "colab": {
     "base_uri": "https://localhost:8080/",
     "height": 197
    },
    "colab_type": "code",
    "id": "IHPYDKGRRXR2",
    "outputId": "c81930b7-1ed0-488c-dbda-414da7c5618e",
    "scrolled": true
   },
   "outputs": [
    {
     "name": "stdout",
     "output_type": "stream",
     "text": [
      "Invalid MIT-MAGIC-COOKIE-1 key--------------------------------------------------------------------------\n",
      "There are not enough slots available in the system to satisfy the 10\n",
      "slots that were requested by the application:\n",
      "\n",
      "  python\n",
      "\n",
      "Either request fewer slots for your application, or make more slots\n",
      "available for use.\n",
      "\n",
      "A \"slot\" is the Open MPI term for an allocatable unit where we can\n",
      "launch a process.  The number of slots available are defined by the\n",
      "environment in which Open MPI processes are run:\n",
      "\n",
      "  1. Hostfile, via \"slots=N\" clauses (N defaults to number of\n",
      "     processor cores if not provided)\n",
      "  2. The --host command line parameter, via a \":N\" suffix on the\n",
      "     hostname (N defaults to 1 if not provided)\n",
      "  3. Resource manager (e.g., SLURM, PBS/Torque, LSF, etc.)\n",
      "  4. If none of a hostfile, the --host command line parameter, or an\n",
      "     RM is present, Open MPI defaults to the number of processor cores\n",
      "\n",
      "In all the above cases, if you want Open MPI to default to the number\n",
      "of hardware threads instead of the number of processor cores, use the\n",
      "--use-hwthread-cpus option.\n",
      "\n",
      "Alternatively, you can use the --oversubscribe option to ignore the\n",
      "number of available slots when deciding the number of processes to\n",
      "launch.\n",
      "--------------------------------------------------------------------------\n"
     ]
    }
   ],
   "source": [
    "# Use this when in Google colab\n",
    "!mpiexec --allow-run-as-root -n 10 python -m mpi4py Hello_world.py"
   ]
  },
  {
   "cell_type": "markdown",
   "metadata": {
    "colab_type": "text",
    "id": "-kqEBA9VR52P"
   },
   "source": [
    "# <strong> Blocking point-to-point communication\n",
    "</strong> \n"
   ]
  },
  {
   "cell_type": "code",
   "execution_count": 4,
   "metadata": {
    "colab": {},
    "colab_type": "code",
    "id": "0-jkgZdgSfmR"
   },
   "outputs": [
    {
     "name": "stdout",
     "output_type": "stream",
     "text": [
      "\n",
      "from mpi4py import MPI\n",
      "\n",
      "comm = MPI.COMM_WORLD\n",
      "rank = comm.Get_rank()\n",
      "\n",
      "if rank == 0:\n",
      "    data = { 'a': 7, 'b': 3.14 }\n",
      "    comm.send(data, dest = 1, tag = 11)\n",
      "\n",
      "    print(\"rank = %r, data = %r\" % (rank, data))\n",
      "\n",
      "elif rank == 1:\n",
      "    data = comm.recv(source = 0, tag = 11)\n",
      "\n",
      "    print(\"rank = %r, data = %r\" % (rank, data))\n",
      "\n",
      "else:\n",
      "    print(\"rank = %r, data = <NONE>\" % rank)\n",
      "\n"
     ]
    }
   ],
   "source": [
    "f = open(\"Simple_blocking_p2p.py\", \"r\")\n",
    "print(f.read())\n",
    "f.close()"
   ]
  },
  {
   "cell_type": "code",
   "execution_count": 5,
   "metadata": {
    "colab": {
     "base_uri": "https://localhost:8080/",
     "height": 71
    },
    "colab_type": "code",
    "id": "OSBIFJtaSpQi",
    "outputId": "509d96d8-3e94-4a36-f7b7-ef71050efec4"
   },
   "outputs": [
    {
     "name": "stdout",
     "output_type": "stream",
     "text": [
      "/bin/bash: mpiexec.exe: command not found\r\n"
     ]
    }
   ],
   "source": [
    "!mpiexec.exe -n 3 python Simple_blocking_p2p.py"
   ]
  },
  {
   "cell_type": "markdown",
   "metadata": {
    "colab_type": "text",
    "id": "-kqEBA9VR52P"
   },
   "source": [
    "# <strong> NumPy blocking point-to-point communication </strong> \n"
   ]
  },
  {
   "cell_type": "code",
   "execution_count": 6,
   "metadata": {
    "colab": {},
    "colab_type": "code",
    "id": "0-jkgZdgSfmR",
    "scrolled": true
   },
   "outputs": [
    {
     "name": "stdout",
     "output_type": "stream",
     "text": [
      "\n",
      "from mpi4py import MPI\n",
      "import numpy as np\n",
      "\n",
      "comm = MPI.COMM_WORLD\n",
      "rank = comm.Get_rank()\n",
      "\n",
      "# In real code this section might read in data from file\n",
      "if rank == 0:\n",
      "    size = 10\n",
      "    comm.send(size, dest = 1)\n",
      "\n",
      "    data = np.linspace(0.0, 3.14, size)\n",
      "    comm.Send(data, dest = 1)\n",
      "\n",
      "    print(\"Sended data = %r\" % data)\n",
      "\n",
      "elif rank == 1:\n",
      "    size = comm.recv(source = 0)\n",
      "\n",
      "    # Allocate space to receive the array\n",
      "    data = np.empty(size, dtype = 'd')\n",
      "    comm.Recv(data, source = 0)\n",
      "\n",
      "    print(\"Received data = %r\" % data)\n",
      "\n",
      "else:\n",
      "    data = None\n",
      "\n",
      "    print(\"Other data = %r\" % data)\n",
      "\n"
     ]
    }
   ],
   "source": [
    "f = open(\"Numpy_blocking_p2p.py\", \"r\")\n",
    "print(f.read())\n",
    "f.close()"
   ]
  },
  {
   "cell_type": "code",
   "execution_count": 7,
   "metadata": {
    "colab": {
     "base_uri": "https://localhost:8080/",
     "height": 71
    },
    "colab_type": "code",
    "id": "OSBIFJtaSpQi",
    "outputId": "509d96d8-3e94-4a36-f7b7-ef71050efec4"
   },
   "outputs": [
    {
     "name": "stdout",
     "output_type": "stream",
     "text": [
      "Invalid MIT-MAGIC-COOKIE-1 key--------------------------------------------------------------------------\n",
      "mpirun was unable to find the specified executable file, and therefore\n",
      "did not launch the job.  This error was first reported for process\n",
      "rank 0; it may have occurred for other processes as well.\n",
      "\n",
      "NOTE: A common cause for this error is misspelling a mpirun command\n",
      "      line parameter option (remember that mpirun interprets the first\n",
      "      unrecognized command line token as the executable).\n",
      "\n",
      "Node:       ildar-machine\n",
      "Executable: python\n",
      "--------------------------------------------------------------------------\n",
      "3 total processes failed to start\n"
     ]
    }
   ],
   "source": [
    "!mpirun -n 3 python Numpy_blocking_p2p.py"
   ]
  },
  {
   "cell_type": "markdown",
   "metadata": {
    "colab_type": "text",
    "id": "-kqEBA9VR52P"
   },
   "source": [
    "# <strong> Non-blocking point-to-point communication\n",
    "</strong> \n"
   ]
  },
  {
   "cell_type": "code",
   "execution_count": 8,
   "metadata": {
    "colab": {},
    "colab_type": "code",
    "id": "0-jkgZdgSfmR"
   },
   "outputs": [
    {
     "name": "stdout",
     "output_type": "stream",
     "text": [
      "\n",
      "from mpi4py import MPI\n",
      "\n",
      "comm = MPI.COMM_WORLD\n",
      "rank = comm.Get_rank()\n",
      "size = comm.Get_size()\n",
      "\n",
      "data = rank\n",
      "\n",
      "print(\"rank = %r, data = %r\" % (rank, data))\n",
      "\n",
      "# All processes wait here for all\n",
      "comm.Barrier()\n",
      "print(\"Barrier\")\n",
      "# The same here\n",
      "# Try to comment one of and both of barriers\n",
      "comm.Barrier()\n",
      "\n",
      "# Send, not wait\n",
      "request = comm.isend(data, dest = (rank + 1) % size)\n",
      "\n",
      "# Receive, not wait\n",
      "request = comm.irecv(source = (rank - 1) % size)\n",
      "# Wait for corresponding sender\n",
      "data = request.wait()\n",
      "\n",
      "print(\"rank = %r, data = %r\" % (rank, data))\n",
      "\n"
     ]
    }
   ],
   "source": [
    "f = open(\"Nonblocking_p2p.py\", \"r\")\n",
    "print(f.read())\n",
    "f.close()"
   ]
  },
  {
   "cell_type": "code",
   "execution_count": 9,
   "metadata": {
    "colab": {
     "base_uri": "https://localhost:8080/",
     "height": 71
    },
    "colab_type": "code",
    "id": "OSBIFJtaSpQi",
    "outputId": "509d96d8-3e94-4a36-f7b7-ef71050efec4"
   },
   "outputs": [
    {
     "name": "stdout",
     "output_type": "stream",
     "text": [
      "Invalid MIT-MAGIC-COOKIE-1 key--------------------------------------------------------------------------\n",
      "mpirun was unable to find the specified executable file, and therefore\n",
      "did not launch the job.  This error was first reported for process\n",
      "rank 0; it may have occurred for other processes as well.\n",
      "\n",
      "NOTE: A common cause for this error is misspelling a mpirun command\n",
      "      line parameter option (remember that mpirun interprets the first\n",
      "      unrecognized command line token as the executable).\n",
      "\n",
      "Node:       ildar-machine\n",
      "Executable: python\n",
      "--------------------------------------------------------------------------\n",
      "3 total processes failed to start\n"
     ]
    }
   ],
   "source": [
    "!mpirun -n 3 python Nonblocking_p2p.py"
   ]
  },
  {
   "cell_type": "markdown",
   "metadata": {
    "colab_type": "text",
    "id": "kdppFy9M7G3W"
   },
   "source": [
    "# <strong> Collective communication: Sum-reduce </strong>"
   ]
  },
  {
   "cell_type": "code",
   "execution_count": 10,
   "metadata": {
    "colab": {},
    "colab_type": "code",
    "id": "D5wc-zkSD2zn"
   },
   "outputs": [
    {
     "name": "stdout",
     "output_type": "stream",
     "text": [
      "\n",
      "from mpi4py import MPI\n",
      "import numpy as np\n",
      "\n",
      "comm = MPI.COMM_WORLD\n",
      "rank = comm.Get_rank()\n",
      "\n",
      "# Python objects sum-reduce\n",
      "result = comm.reduce(rank, op = MPI.SUM, root = 0)\n",
      "\n",
      "if rank == 0:\n",
      "    print(\"result = %r\" % result)\n",
      "\n",
      "# Numpy objects sum-reduce\n",
      "sendbuf = np.empty(2, dtype = 'i')\n",
      "sendbuf[0] = 1\n",
      "sendbuf[1] = rank\n",
      "\n",
      "if rank == 0:\n",
      "    recvbuf = np.empty(2, dtype = 'i')\n",
      "else:\n",
      "    recvbuf = None\n",
      "\n",
      "comm.Reduce(sendbuf, recvbuf, op = MPI.SUM, root = 0)\n",
      "\n",
      "if rank == 0:\n",
      "    print(\"recvbuf = %r\" % recvbuf)\n",
      "\n"
     ]
    }
   ],
   "source": [
    "f = open(\"Sum_reduce.py\", \"r\")\n",
    "print(f.read())\n",
    "f.close()"
   ]
  },
  {
   "cell_type": "code",
   "execution_count": 11,
   "metadata": {
    "colab": {
     "base_uri": "https://localhost:8080/",
     "height": 377
    },
    "colab_type": "code",
    "id": "RjRe3J2qEsNT",
    "outputId": "379fa1e6-2ef0-4bf6-f13a-efa0bf27a42d",
    "scrolled": true
   },
   "outputs": [
    {
     "name": "stdout",
     "output_type": "stream",
     "text": [
      "Invalid MIT-MAGIC-COOKIE-1 key--------------------------------------------------------------------------\r\n",
      "mpirun was unable to find the specified executable file, and therefore\r\n",
      "did not launch the job.  This error was first reported for process\r\n",
      "rank 0; it may have occurred for other processes as well.\r\n",
      "\r\n",
      "NOTE: A common cause for this error is misspelling a mpirun command\r\n",
      "      line parameter option (remember that mpirun interprets the first\r\n",
      "      unrecognized command line token as the executable).\r\n",
      "\r\n",
      "Node:       ildar-machine\r\n",
      "Executable: python\r\n",
      "--------------------------------------------------------------------------\r\n",
      "5 total processes failed to start\r\n"
     ]
    }
   ],
   "source": [
    "!mpirun -n 5 python Sum_reduce.py"
   ]
  },
  {
   "cell_type": "markdown",
   "metadata": {
    "colab_type": "text",
    "id": "kdppFy9M7G3W"
   },
   "source": [
    "# <strong> Collective communication: Broadcast </strong>"
   ]
  },
  {
   "cell_type": "code",
   "execution_count": 12,
   "metadata": {
    "colab": {},
    "colab_type": "code",
    "id": "D5wc-zkSD2zn"
   },
   "outputs": [
    {
     "name": "stdout",
     "output_type": "stream",
     "text": [
      "\n",
      "from mpi4py import MPI\n",
      "\n",
      "comm = MPI.COMM_WORLD\n",
      "rank = comm.Get_rank()\n",
      "\n",
      "data = rank * rank\n",
      "\n",
      "if rank == 0:\n",
      "    data = { 'key1' : [7, 2.72, 2 + 3j], 'key2' : ('abc', 'xyz') }\n",
      "else:\n",
      "    data = None\n",
      "\n",
      "print(\"rank = %r: data = %r\" % (rank, data))\n",
      "\n",
      "comm.Barrier()\n",
      "data = comm.bcast(data, root=0)\n",
      "\n",
      "print(\"rank = %r: data = %r\" % (rank, data))\n",
      "\n"
     ]
    }
   ],
   "source": [
    "f = open(\"Broadcast.py\", \"r\")\n",
    "print(f.read())\n",
    "f.close()"
   ]
  },
  {
   "cell_type": "code",
   "execution_count": 13,
   "metadata": {
    "colab": {
     "base_uri": "https://localhost:8080/",
     "height": 377
    },
    "colab_type": "code",
    "id": "RjRe3J2qEsNT",
    "outputId": "379fa1e6-2ef0-4bf6-f13a-efa0bf27a42d",
    "scrolled": true
   },
   "outputs": [
    {
     "name": "stdout",
     "output_type": "stream",
     "text": [
      "Invalid MIT-MAGIC-COOKIE-1 key--------------------------------------------------------------------------\r\n",
      "mpirun was unable to find the specified executable file, and therefore\r\n",
      "did not launch the job.  This error was first reported for process\r\n",
      "rank 0; it may have occurred for other processes as well.\r\n",
      "\r\n",
      "NOTE: A common cause for this error is misspelling a mpirun command\r\n",
      "      line parameter option (remember that mpirun interprets the first\r\n",
      "      unrecognized command line token as the executable).\r\n",
      "\r\n",
      "Node:       ildar-machine\r\n",
      "Executable: python\r\n",
      "--------------------------------------------------------------------------\r\n",
      "5 total processes failed to start\r\n"
     ]
    }
   ],
   "source": [
    "!mpirun -n 5 python Broadcast.py"
   ]
  },
  {
   "cell_type": "markdown",
   "metadata": {
    "colab_type": "text",
    "id": "kdppFy9M7G3W"
   },
   "source": [
    "# <strong> Collective communication: Scatter </strong>"
   ]
  },
  {
   "cell_type": "code",
   "execution_count": 14,
   "metadata": {
    "colab": {},
    "colab_type": "code",
    "id": "D5wc-zkSD2zn"
   },
   "outputs": [
    {
     "name": "stdout",
     "output_type": "stream",
     "text": [
      "\n",
      "from mpi4py import MPI\n",
      "import sys\n",
      "\n",
      "comm = MPI.COMM_WORLD\n",
      "rank = comm.Get_rank()\n",
      "\n",
      "print('The number of processor is %s' % sys.argv[1])\n",
      "\n",
      "if rank == 0:\n",
      "    data = [x**2 for x in range(comm.Get_size())]\n",
      "else:\n",
      "    data = None\n",
      "\n",
      "print(\"[Before] rank = %r: data = %r\" % (rank, data))\n",
      "\n",
      "data = comm.scatter(data, root = 0)\n",
      "\n",
      "print(\"[After] rank = %r: data = %r\" % (rank, data))\n",
      "\n"
     ]
    }
   ],
   "source": [
    "f = open(\"Scatter.py\", \"r\")\n",
    "print(f.read())\n",
    "f.close()"
   ]
  },
  {
   "cell_type": "code",
   "execution_count": 15,
   "metadata": {
    "colab": {
     "base_uri": "https://localhost:8080/",
     "height": 377
    },
    "colab_type": "code",
    "id": "RjRe3J2qEsNT",
    "outputId": "379fa1e6-2ef0-4bf6-f13a-efa0bf27a42d",
    "scrolled": true
   },
   "outputs": [
    {
     "name": "stdout",
     "output_type": "stream",
     "text": [
      "Invalid MIT-MAGIC-COOKIE-1 key--------------------------------------------------------------------------\n",
      "mpirun was unable to find the specified executable file, and therefore\n",
      "did not launch the job.  This error was first reported for process\n",
      "rank 0; it may have occurred for other processes as well.\n",
      "\n",
      "NOTE: A common cause for this error is misspelling a mpirun command\n",
      "      line parameter option (remember that mpirun interprets the first\n",
      "      unrecognized command line token as the executable).\n",
      "\n",
      "Node:       ildar-machine\n",
      "Executable: python\n",
      "--------------------------------------------------------------------------\n",
      "5 total processes failed to start\n"
     ]
    }
   ],
   "source": [
    "!mpirun -n 5 python Scatter.py"
   ]
  },
  {
   "cell_type": "markdown",
   "metadata": {
    "colab_type": "text",
    "id": "kdppFy9M7G3W"
   },
   "source": [
    "# <strong> Collective communication: Gather </strong>"
   ]
  },
  {
   "cell_type": "code",
   "execution_count": 16,
   "metadata": {
    "colab": {},
    "colab_type": "code",
    "id": "D5wc-zkSD2zn"
   },
   "outputs": [
    {
     "name": "stdout",
     "output_type": "stream",
     "text": [
      "\n",
      "from mpi4py import MPI\n",
      "\n",
      "comm = MPI.COMM_WORLD\n",
      "rank = comm.Get_rank()\n",
      "\n",
      "data = rank * rank\n",
      "\n",
      "print(\"[Before] rank = %r: data = %r\" % (rank, data))\n",
      "\n",
      "data = comm.gather(data, root = 0)\n",
      "\n",
      "print(\"[After] rank = %r: data = %r\" % (rank, data))\n",
      "\n"
     ]
    }
   ],
   "source": [
    "f = open(\"Gather.py\", \"r\")\n",
    "print(f.read())\n",
    "f.close()"
   ]
  },
  {
   "cell_type": "code",
   "execution_count": 17,
   "metadata": {
    "colab": {
     "base_uri": "https://localhost:8080/",
     "height": 377
    },
    "colab_type": "code",
    "id": "RjRe3J2qEsNT",
    "outputId": "379fa1e6-2ef0-4bf6-f13a-efa0bf27a42d",
    "scrolled": true
   },
   "outputs": [
    {
     "name": "stdout",
     "output_type": "stream",
     "text": [
      "Invalid MIT-MAGIC-COOKIE-1 key--------------------------------------------------------------------------\n",
      "mpirun was unable to find the specified executable file, and therefore\n",
      "did not launch the job.  This error was first reported for process\n",
      "rank 0; it may have occurred for other processes as well.\n",
      "\n",
      "NOTE: A common cause for this error is misspelling a mpirun command\n",
      "      line parameter option (remember that mpirun interprets the first\n",
      "      unrecognized command line token as the executable).\n",
      "\n",
      "Node:       ildar-machine\n",
      "Executable: python\n",
      "--------------------------------------------------------------------------\n",
      "5 total processes failed to start\n"
     ]
    }
   ],
   "source": [
    "!mpirun -n 5 python Gather.py"
   ]
  }
 ],
 "metadata": {
  "colab": {
   "name": "Task 7 & Task 8.ipynb",
   "provenance": []
  },
  "kernelspec": {
   "display_name": "Python 3 (ipykernel)",
   "language": "python",
   "name": "python3"
  },
  "language_info": {
   "codemirror_mode": {
    "name": "ipython",
    "version": 3
   },
   "file_extension": ".py",
   "mimetype": "text/x-python",
   "name": "python",
   "nbconvert_exporter": "python",
   "pygments_lexer": "ipython3",
   "version": "3.8.10"
  }
 },
 "nbformat": 4,
 "nbformat_minor": 1
}
